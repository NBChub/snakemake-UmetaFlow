{
 "cells": [
  {
   "cell_type": "markdown",
   "id": "82179e30",
   "metadata": {},
   "source": [
    "##### `If your files originate from a Thermo instrument:`\n",
    "\n",
    "Copy all your *.raw files to data/raw directory and you can use the following script to generate a samples.tsv file automatically:"
   ]
  },
  {
   "cell_type": "code",
   "execution_count": null,
   "id": "cc98040f",
   "metadata": {},
   "outputs": [],
   "source": [
    "!(cd data/raw && ls *.raw > filelist.txt)\n",
    "import pandas as pd\n",
    "header_list = [\"sample_name\"]\n",
    "df=pd.read_csv(\"data/raw/filelist.txt\", names=header_list, index_col= None)\n",
    "df[\"sample_name\"]=df[\"sample_name\"].replace(\".raw*\", value=\"\", regex=True)\n",
    "df[\"comment\"] = \" \"\n",
    "df[\"MAPnumber\"] = \" \"\n",
    "df.to_csv(\"config/samples.tsv\", sep=\"\\t\")\n",
    "df"
   ]
  },
  {
   "cell_type": "markdown",
   "id": "63b9b610",
   "metadata": {},
   "source": [
    "##### `If your files originate from another instrument:`\n",
    "\n",
    "Copy all your already converted files *.mzML to data/mzML directory and you can use the following script to generate a samples.tsv file automatically:"
   ]
  },
  {
   "cell_type": "code",
   "execution_count": null,
   "id": "a81d0bbd",
   "metadata": {},
   "outputs": [],
   "source": [
    "!(cd data/mzML && ls *.mzML > filelist.txt)\n",
    "import pandas as pd\n",
    "header_list = [\"sample_name\"]\n",
    "df=pd.read_csv(\"data/mzML/filelist.txt\", names=header_list, index_col= None)\n",
    "df[\"sample_name\"]=df[\"sample_name\"].replace(\".mzML*\", value=\"\", regex=True)\n",
    "df[\"comment\"] = \" \"\n",
    "df[\"MAPnumber\"] = \" \"\n",
    "df.to_csv(\"config/samples.tsv\", sep=\"\\t\")\n",
    "df"
   ]
  }
 ],
 "metadata": {
  "interpreter": {
   "hash": "edde62aa2661007f0756e9790e7a328c288a583bf6ce768a355147dac67c8db8"
  },
  "kernelspec": {
   "display_name": "Python 3",
   "language": "python",
   "name": "python3"
  },
  "language_info": {
   "codemirror_mode": {
    "name": "ipython",
    "version": 3
   },
   "file_extension": ".py",
   "mimetype": "text/x-python",
   "name": "python",
   "nbconvert_exporter": "python",
   "pygments_lexer": "ipython3",
   "version": "3.8.12"
  }
 },
 "nbformat": 4,
 "nbformat_minor": 5
}
