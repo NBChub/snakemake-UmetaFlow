{
 "cells": [
  {
   "cell_type": "markdown",
   "id": "82179e30",
   "metadata": {},
   "source": [
    "##### `If your files originate from a Thermo instrument:`\n",
    "\n",
    "Copy all your *.raw files to data/raw directory and you can use the following script to generate a samples.tsv file automatically:"
   ]
  },
  {
   "cell_type": "code",
   "execution_count": null,
   "id": "9d2ea905",
   "metadata": {},
   "outputs": [],
   "source": [
    "import pandas as pd\n",
    "import os\n",
    "df = pd.DataFrame()\n",
    "df[\"sample_name\"] = [file for file in os.listdir(os.path.join(\"data\", \"raw\")) if file.endswith(\".raw\")]\n",
    "df[\"sample_name\"]=df[\"sample_name\"].replace(\".raw\", value=\"\", regex=True)\n",
    "df[\"comment\"] = \" \"\n",
    "df[\"MAPnumber\"] = \" \"\n",
    "df.to_csv(os.path.join(\"config\", \"samples.tsv\"), sep=\"\\t\")\n",
    "df"
   ]
  },
  {
   "cell_type": "markdown",
   "id": "63b9b610",
   "metadata": {},
   "source": [
    "##### `If your files originate from another instrument:`\n",
    "\n",
    "Copy all your already converted files *.mzML to data/mzML directory and you can use the following script to generate a samples.tsv file automatically:"
   ]
  },
  {
   "cell_type": "code",
   "execution_count": null,
   "id": "a81d0bbd",
   "metadata": {},
   "outputs": [],
   "source": [
    "import pandas as pd\n",
    "import os\n",
    "df = pd.DataFrame()\n",
    "df[\"sample_name\"] = [file for file in os.listdir(os.path.join(\"data\", \"mzML\")) if file.endswith(\".mzML\")]\n",
    "df[\"sample_name\"]=df[\"sample_name\"].replace(\".mzML\", value=\"\", regex=True)\n",
    "df[\"comment\"] = \" \"\n",
    "df[\"MAPnumber\"] = \" \"\n",
    "df.to_csv(os.path.join(\"config\", \"samples.tsv\"), sep=\"\\t\")\n",
    "df"
   ]
  },
  {
   "cell_type": "markdown",
   "id": "078201c1",
   "metadata": {},
   "source": [
    "##### `Create a GNPS metadata table:`\n",
    "This is datafile-dependent so it is preferable to do it interactively through a Jupyter notebook"
   ]
  },
  {
   "cell_type": "code",
   "execution_count": null,
   "id": "bcb44573",
   "metadata": {},
   "outputs": [],
   "source": [
    "# Create a metadata table from the list of mzML files compatible for GNPS\n",
    "\n",
    "metadata = pd.DataFrame()\n",
    "metadata[\"filename\"] = [file for file in os.listdir(os.path.join(\"data\", \"mzML\")) if file.endswith(\".mzML\")]\n",
    "metadata[\"ATTRIBUTE_MAPID\"]= [\"MAP\" + str(i) for i in range(len(metadata))]\n",
    "metadata['ATTRIBUTE_compound'] = metadata['filename'].replace(\".mzML\", value=\"\", regex=True)\n",
    "metadata['ATTRIBUTE_genomeID']=metadata['filename'].str.extract(r'(NBC_?\\d*|NBC?\\d*)')\n",
    "metadata['ATTRIBUTE_genomeID']= metadata['ATTRIBUTE_genomeID'].fillna(\"blank\")\n",
    "metadata['ATTRIBUTE_genomeIDMDNA']=metadata['filename'].str.extract(r'(MDNAWGS?\\d*|MDNA_WGS_?\\d*)')\n",
    "metadata['ATTRIBUTE_genomeID']=metadata['ATTRIBUTE_genomeID'].fillna(metadata['ATTRIBUTE_genomeIDMDNA'])\n",
    "metadata[\"ATTRIBUTE_media\"]= metadata['filename'].str.extract(r'(ISP2|DNPM|FPY12|MA|soyM\\d*)')\n",
    "metadata[\"ATTRIBUTE_comment\"]= metadata['ATTRIBUTE_genomeID'].astype(str) +\"_\" + metadata[\"ATTRIBUTE_media\"].astype(str)\n",
    "metadata=metadata.drop(columns=\"ATTRIBUTE_genomeIDMDNA\")\n",
    "metadata.to_csv(os.path.join(\"results\", \"GNPSexport\", \"metadata.tsv\"), sep='\\t', index= None)\n",
    "metadata"
   ]
  },
  {
   "cell_type": "code",
   "execution_count": null,
   "id": "3655cbef",
   "metadata": {},
   "outputs": [],
   "source": []
  }
 ],
 "metadata": {
  "kernelspec": {
   "display_name": "Python 3.10.4 ('pyopenms')",
   "language": "python",
   "name": "python3"
  },
  "language_info": {
   "codemirror_mode": {
    "name": "ipython",
    "version": 3
   },
   "file_extension": ".py",
   "mimetype": "text/x-python",
   "name": "python",
   "nbconvert_exporter": "python",
   "pygments_lexer": "ipython3",
   "version": "3.10.4"
  },
  "vscode": {
   "interpreter": {
    "hash": "edde62aa2661007f0756e9790e7a328c288a583bf6ce768a355147dac67c8db8"
   }
  }
 },
 "nbformat": 4,
 "nbformat_minor": 5
}
