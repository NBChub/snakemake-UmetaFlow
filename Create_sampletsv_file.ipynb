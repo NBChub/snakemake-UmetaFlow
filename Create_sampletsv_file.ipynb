{
 "cells": [
  {
   "cell_type": "markdown",
   "id": "82179e30",
   "metadata": {},
   "source": [
    "##### `If your files originate from a Thermo instrument:`\n",
    "\n",
    "Copy all your *.raw files to data/raw directory and you can use the following script to generate a samples.tsv file automatically:"
   ]
  },
  {
   "cell_type": "code",
   "execution_count": null,
   "id": "cc98040f",
   "metadata": {},
   "outputs": [],
   "source": [
    "!(cd data/raw && ls *.raw > filelist.txt)\n",
    "import pandas as pd\n",
    "header_list = [\"sample_name\"]\n",
    "df=pd.read_csv(\"data/raw/filelist.txt\", names=header_list, index_col= None)\n",
    "df[\"sample_name\"]=df[\"sample_name\"].replace(\".raw*\", value=\"\", regex=True)\n",
    "df[\"comment\"] = \" \"\n",
    "df[\"MAPnumber\"] = \" \"\n",
    "df.to_csv(\"config/samples.tsv\", sep=\"\\t\")\n",
    "df"
   ]
  },
  {
   "cell_type": "markdown",
   "id": "63b9b610",
   "metadata": {},
   "source": [
    "##### `If your files originate from another instrument:`\n",
    "\n",
    "Copy all your already converted files *.mzML to data/mzML directory and you can use the following script to generate a samples.tsv file automatically:"
   ]
  },
  {
   "cell_type": "code",
   "execution_count": null,
   "id": "a81d0bbd",
   "metadata": {},
   "outputs": [],
   "source": [
    "!(cd data/mzML && ls *.mzML > filelist.txt)\n",
    "import pandas as pd\n",
    "header_list = [\"sample_name\"]\n",
    "df=pd.read_csv(\"data/mzML/filelist.txt\", names=header_list, index_col= None)\n",
    "df[\"sample_name\"]=df[\"sample_name\"].replace(\".mzML*\", value=\"\", regex=True)\n",
    "df[\"comment\"] = \" \"\n",
    "df[\"MAPnumber\"] = \" \"\n",
    "df.to_csv(\"config/samples.tsv\", sep=\"\\t\")\n",
    "df"
   ]
  },
  {
   "cell_type": "markdown",
   "id": "078201c1",
   "metadata": {},
   "source": [
    "##### `Create a GNPS metadata table:`\n",
    "This is datafile-dependent so it is preferable to do it interactively through a Jupyter notebook"
   ]
  },
  {
   "cell_type": "code",
   "execution_count": 1,
   "id": "f0a35ddc",
   "metadata": {},
   "outputs": [],
   "source": [
    "!(cd results/GNPSexport && ls *.mzML > filelist.txt)"
   ]
  },
  {
   "cell_type": "code",
   "execution_count": null,
   "id": "1c1a4d15",
   "metadata": {},
   "outputs": [],
   "source": [
    "import pandas as pd\n",
    "import numpy as np \n",
    "import os \n",
    "\n",
    "path= \"results/GNPSexport/\"\n",
    "isExist= os.path.exists(path)\n",
    "if not isExist:\n",
    "    os.mkdir(path)\n",
    "\n",
    "import pandas as pd\n",
    "header_list = [\"filename\"]\n",
    "df=pd.read_csv(\"results/GNPSexport/filelist.txt\", names=header_list, index_col= None)\n",
    "df[\"filename\"]=df[\"filename\"].replace(to_replace= r'MDNAWGS', value= 'MDNA_WGS_', regex= True)\n",
    "df['ATTRIBUTE_MAPID'] = np.arange(len(df))\n",
    "df[\"ATTRIBUTE_MAPID\"]= \"MAP\" + df[\"ATTRIBUTE_MAPID\"].astype(str)\n",
    "df['ATTRIBUTE_genomeID']=df['filename'].str.extract(r'(NBC_?\\d*)')\n",
    "df['ATTRIBUTE_genomeIDMDNA']=df['filename'].str.extract(r'(MDNAWGS?\\d*|MDNA_WGS_?\\d*)')\n",
    "df['ATTRIBUTE_genomeID']=df['ATTRIBUTE_genomeID'].fillna(df['ATTRIBUTE_genomeIDMDNA'])\n",
    "df[\"ATTRIBUTE_media\"]= df['filename'].str.extract(r'(ISP2|DNPM|FPY12|MA|soyM\\d*)')\n",
    "df[\"ATTRIBUTE_comment\"]= df['ATTRIBUTE_genomeID'].astype(str) +\"_\" + df[\"ATTRIBUTE_media\"].astype(str)\n",
    "df=df.drop(columns=\"ATTRIBUTE_genomeIDMDNA\")\n",
    "df.to_csv(\"results/GNPSexport/metadata.tsv\", sep='\\t')\n",
    "df"
   ]
  },
  {
   "cell_type": "code",
   "execution_count": 5,
   "id": "66343357",
   "metadata": {},
   "outputs": [],
   "source": [
    "!(cd results/GNPSexport && rm filelist.txt)"
   ]
  },
  {
   "cell_type": "code",
   "execution_count": null,
   "id": "dc0a59b3",
   "metadata": {},
   "outputs": [],
   "source": []
  }
 ],
 "metadata": {
  "interpreter": {
   "hash": "edde62aa2661007f0756e9790e7a328c288a583bf6ce768a355147dac67c8db8"
  },
  "kernelspec": {
   "display_name": "Python 3",
   "language": "python",
   "name": "python3"
  },
  "language_info": {
   "codemirror_mode": {
    "name": "ipython",
    "version": 3
   },
   "file_extension": ".py",
   "mimetype": "text/x-python",
   "name": "python",
   "nbconvert_exporter": "python",
   "pygments_lexer": "ipython3",
   "version": "3.8.12"
  }
 },
 "nbformat": 4,
 "nbformat_minor": 5
}
